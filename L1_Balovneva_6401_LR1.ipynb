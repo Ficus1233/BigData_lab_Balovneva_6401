{
 "cells": [
  {
   "cell_type": "markdown",
   "id": "2c5d810a",
   "metadata": {},
   "source": [
    "## Решите следующие задачи для данных велопарковок Сан-Франциско (trips.csv, stations.csv):\n",
    "\n",
    "1.\tНайти велосипед с максимальным временем пробега.\n",
    "2.\tНайти наибольшее геодезическое расстояние между станциями.\n",
    "3.\tНайти путь велосипеда с максимальным временем пробега через станции.\n",
    "4.\tНайти количество велосипедов в системе.\n",
    "5.\tНайти пользователей потративших на поездки более 3 часов."
   ]
  },
  {
   "cell_type": "code",
   "execution_count": null,
   "id": "e7a4a859",
   "metadata": {},
   "outputs": [],
   "source": [
    "# Найти пользователей потративших на поездки более 3 часов.\n",
    "users = (trips_df.groupBy(\"zip_code\")\n",
    "         .agg((F.sum(\"duration\")/3600).alias(\"sum_duration\"))\n",
    "         .filter(F.col(\"sum_duration\")>3)\n",
    "         .select(\"zip_code\", F.round(\"sum_duration\",1).alias(\"sum_duration\"))\n",
    "         .filter(F.col(\"zip_code\")!=\"nil\")\n",
    "         .orderBy(F.desc(\"sum_duration\"))\n",
    ").collect()\n",
    "\n",
    "print(users)"
   ]
  },
  {
   "cell_type": "code",
   "execution_count": 1,
   "id": "f2eb351a00cd4ac0",
   "metadata": {
    "ExecuteTime": {
     "end_time": "2025-05-14T11:42:32.146049Z",
     "start_time": "2025-05-14T11:42:11.520199Z"
    }
   },
   "outputs": [],
   "source": [
    "from pyspark.sql import SparkSession\n",
    "spark = SparkSession.builder.master(\"local[*]\").getOrCreate()\n",
    "spark\n",
    "from pyspark.sql import functions as F"
   ]
  },
  {
   "cell_type": "code",
   "execution_count": 2,
   "id": "615bd8a296f26baa",
   "metadata": {},
   "outputs": [],
   "source": [
    "spark = SparkSession.builder.appName(\"lr1\").config(\"spark.sql.legacy.timeParserPolicy\", \"LEGACY\").getOrCreate()"
   ]
  },
  {
   "cell_type": "code",
   "execution_count": 3,
   "id": "94fd3b96f3c6d6fc",
   "metadata": {},
   "outputs": [],
   "source": [
    "trips_df = spark.read.option(\"header\", \"true\").option(\"inferSchema\", \"true\").csv(\"trip.csv\")\n",
    "print(trips_df.dtypes)\n",
    "\n",
    "stations_df = spark.read.option(\"header\", \"true\").option(\"inferSchema\", \"true\").csv(\"station.csv\")\n",
    "print(stations_df.dtypes)"
   ]
  },
  {
   "cell_type": "code",
   "execution_count": 9,
   "id": "b234c2bd",
   "metadata": {},
   "outputs": [],
   "source": [
    "# Найти велосипед с максимальным временем пробега.\n",
    "result =(trips_df.groupBy(\"bike_id\")\n",
    "         .agg((F.sum(\"duration\")/3600).alias(\"sum_duration\"))\n",
    "         .orderBy(F.desc(\"sum_duration\"))\n",
    "         .limit(1)\n",
    "         .select(\"bike_id\", F.round(\"sum_duration\", 1).alias(\"duration\"))\n",
    ").collect()\n",
    "print(result)\n"
   ]
  },
  {
   "cell_type": "code",
   "execution_count": 5,
   "id": "7a4bacca",
   "metadata": {},
   "outputs": [],
   "source": [
    "# Найти наибольшее геодезическое расстояние между станциями\n",
    "def calc_dist(lat1, lon1, lat2, lon2):\n",
    "    R = 6371 # Радиус Земли\n",
    "    lat1, lat2, lon1, lon2 = F.radians(lat1), F.radians(lat2), F.radians(lon1), F.radians(lon2)\n",
    "    return R * F.acos(F.sin(lat1) * F.sin(lat2) + F.cos(lat1) * F.cos(lat2) * F.cos(lon2 - lon1))\n",
    "\n",
    "max_distance = (stations_df.alias(\"station1\")\n",
    "                .crossJoin(stations_df.alias(\"station2\"))\n",
    "                .filter(F.col(\"station1.id\") < F.col(\"station2.id\"))\n",
    "                .withColumn(\"distance\", calc_dist(F.col(\"station1.lat\"), F.col(\"station1.long\"), F.col(\"station2.lat\"), F.col(\"station2.long\")))\n",
    "                .agg(F.max(\"distance\").alias(\"max_distance\"))\n",
    "                .collect()[0][\"max_distance\"])\n",
    "\n",
    "print(max_distance)"
   ]
  },
  {
   "cell_type": "code",
   "execution_count": 6,
   "id": "63a72359",
   "metadata": {},
   "outputs": [],
   "source": [
    "# Найти путь велосипеда с максимальным временем пробега через станции.\n",
    "\n",
    "# Первое задание\n",
    "max_duration_bike =(trips_df.groupBy(\"bike_id\")\n",
    "         .agg((F.sum(\"duration\")/3600).alias(\"sum_duration\"))\n",
    "         .orderBy(F.desc(\"sum_duration\"))\n",
    "         .limit(1)\n",
    "         .select(\"bike_id\", F.round(\"sum_duration\", 1))\n",
    ").collect()\n",
    "\n",
    "bike_trips = (trips_df.filter(F.col(\"bike_id\")==max_duration_bike[0][\"bike_id\"])\n",
    "             .select(\"start_date\", \"start_station_name\", \"end_date\", \"end_station_name\")\n",
    "             .orderBy(\"start_date\")\n",
    ").collect()\n",
    "\n",
    "print(bike_trips)"
   ]
  },
  {
   "cell_type": "code",
   "execution_count": 22,
   "id": "14452b4d",
   "metadata": {},
   "outputs": [],
   "source": [
    "# Найти количество велосипедов в системе.\n",
    "bike_count=(trips_df.groupBy(\"bike_id\").count().count())\n",
    "\n",
    "print(bike_count)\n"
   ]
  }
 ],
 "metadata": {
  "kernelspec": {
   "display_name": ".venv",
   "language": "python",
   "name": "python3"
  },
  "language_info": {
   "codemirror_mode": {
    "name": "ipython",
    "version": 3
   },
   "file_extension": ".py",
   "mimetype": "text/x-python",
   "name": "python",
   "nbconvert_exporter": "python",
   "pygments_lexer": "ipython3",
   "version": "3.10.11"
  }
 },
 "nbformat": 4,
 "nbformat_minor": 5
}
