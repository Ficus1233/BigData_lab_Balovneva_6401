{
 "cells": [
  {
   "cell_type": "code",
   "execution_count": 8,
   "metadata": {},
   "outputs": [],
   "source": [
    "import os\n",
    "import sys\n",
    "import pyspark.sql.functions as F\n",
    "from pyspark.sql import Row\n",
    "from pyspark.sql import SparkSession"
   ]
  },
  {
   "cell_type": "code",
   "execution_count": 9,
   "id": "35811d15",
   "metadata": {},
   "outputs": [
    {
     "data": {
      "text/html": [
       "\n",
       "            <div>\n",
       "                <p><b>SparkSession - in-memory</b></p>\n",
       "                \n",
       "        <div>\n",
       "            <p><b>SparkContext</b></p>\n",
       "\n",
       "            <p><a href=\"http://LAPTOP-8IL2NURA:4042\">Spark UI</a></p>\n",
       "\n",
       "            <dl>\n",
       "              <dt>Version</dt>\n",
       "                <dd><code>v3.5.5</code></dd>\n",
       "              <dt>Master</dt>\n",
       "                <dd><code>local[*]</code></dd>\n",
       "              <dt>AppName</dt>\n",
       "                <dd><code>pyspark-shell</code></dd>\n",
       "            </dl>\n",
       "        </div>\n",
       "        \n",
       "            </div>\n",
       "        "
      ],
      "text/plain": [
       "<pyspark.sql.session.SparkSession at 0x2694b32ded0>"
      ]
     },
     "execution_count": 9,
     "metadata": {},
     "output_type": "execute_result"
    }
   ],
   "source": [
    "os.environ['PYSPARK_PYTHON'] = sys.executable\n",
    "os.environ['PYSPARK_DRIVER_PYTHON'] = sys.executable\n",
    "os.environ['PYSPARK_SUBMIT_ARGS'] = '--packages com.databricks:spark-xml_2.12:0.17.0 pyspark-shell'\n",
    "spark = SparkSession.builder.master(\"local[*]\").getOrCreate()\n",
    "spark"
   ]
  },
  {
   "cell_type": "code",
   "execution_count": 10,
   "metadata": {},
   "outputs": [
    {
     "name": "stdout",
     "output_type": "stream",
     "text": [
      "Elems: 46006\n",
      "root\n",
      " |-- _AcceptedAnswerId: long (nullable = true)\n",
      " |-- _AnswerCount: long (nullable = true)\n",
      " |-- _Body: string (nullable = true)\n",
      " |-- _ClosedDate: timestamp (nullable = true)\n",
      " |-- _CommentCount: long (nullable = true)\n",
      " |-- _CommunityOwnedDate: timestamp (nullable = true)\n",
      " |-- _CreationDate: timestamp (nullable = true)\n",
      " |-- _FavoriteCount: long (nullable = true)\n",
      " |-- _Id: long (nullable = true)\n",
      " |-- _LastActivityDate: timestamp (nullable = true)\n",
      " |-- _LastEditDate: timestamp (nullable = true)\n",
      " |-- _LastEditorDisplayName: string (nullable = true)\n",
      " |-- _LastEditorUserId: long (nullable = true)\n",
      " |-- _OwnerDisplayName: string (nullable = true)\n",
      " |-- _OwnerUserId: long (nullable = true)\n",
      " |-- _ParentId: long (nullable = true)\n",
      " |-- _PostTypeId: long (nullable = true)\n",
      " |-- _Score: long (nullable = true)\n",
      " |-- _Tags: string (nullable = true)\n",
      " |-- _Title: string (nullable = true)\n",
      " |-- _ViewCount: long (nullable = true)\n",
      "\n",
      "+-----------------+------------+--------------------+-----------+-------------+--------------------+--------------------+--------------+-------+--------------------+--------------------+----------------------+-----------------+-----------------+------------+---------+-----------+------+--------------------+--------------------+----------+\n",
      "|_AcceptedAnswerId|_AnswerCount|               _Body|_ClosedDate|_CommentCount| _CommunityOwnedDate|       _CreationDate|_FavoriteCount|    _Id|   _LastActivityDate|       _LastEditDate|_LastEditorDisplayName|_LastEditorUserId|_OwnerDisplayName|_OwnerUserId|_ParentId|_PostTypeId|_Score|               _Tags|              _Title|_ViewCount|\n",
      "+-----------------+------------+--------------------+-----------+-------------+--------------------+--------------------+--------------+-------+--------------------+--------------------+----------------------+-----------------+-----------------+------------+---------+-----------+------+--------------------+--------------------+----------+\n",
      "|                7|          13|<p>I want to use ...|       NULL|            2|2012-10-31 20:42:...|2008-08-01 02:42:...|            48|      4|2019-07-19 05:39:...|2019-07-19 05:39:...|                Rich B|          3641067|             NULL|           8|     NULL|          1|   630|<c#><floating-poi...|Convert Decimal t...|     42817|\n",
      "|               31|           6|<p>I have an abso...|       NULL|            0|                NULL|2008-08-01 03:08:...|            10|      6|2019-07-19 05:43:...|2019-07-19 05:43:...|                Rich B|          3641067|             NULL|           9|     NULL|          1|   281|<html><css><inter...|Percentage width ...|     18214|\n",
      "|             NULL|        NULL|<p>An explicit ca...|       NULL|            0|                NULL|2008-08-01 03:17:...|          NULL|      7|2017-12-16 09:06:...|2017-12-16 09:06:...|                  NULL|          4020527|             NULL|           9|        4|          2|   425|                NULL|                NULL|      NULL|\n",
      "|             1404|          63|<p>Given a <code>...|       NULL|            5|2011-08-16 23:40:...|2008-08-01 04:40:...|           436|      9|2019-06-26 19:25:...|2018-04-21 21:48:...|                Rich B|          3956566|             NULL|           1|     NULL|          1|  1742|<c#><.net><datetime>|How do I calculat...|    555183|\n",
      "|             1248|          37|<p>Given a specif...|       NULL|            3|2009-09-04 18:15:...|2008-08-01 04:55:...|           539|     11|2019-05-26 06:31:...|2017-06-04 19:51:...|           user2370523|          6479704|             NULL|           1|     NULL|          1|  1444|<c#><datetime><ti...|Calculate relativ...|    149445|\n",
      "|             NULL|        NULL|<p>Here's how I d...|       NULL|           11|2009-09-04 18:15:...|2008-08-01 04:56:...|          NULL|     12|2018-01-12 20:10:...|2018-01-12 20:10:...|            GateKiller|          1271898|             NULL|           1|       11|          2|   327|                NULL|                NULL|      NULL|\n",
      "|             NULL|          24|<p>Is there a sta...|       NULL|           10|                NULL|2008-08-01 05:42:...|           147|     13|2019-05-14 20:02:...|2018-12-25 02:47:...|                Rich B|          9752662|             NULL|           9|     NULL|          1|   590|<html><browser><t...|Determine a user'...|    176405|\n",
      "|             NULL|          10|<p>What is the di...|       NULL|            4|                NULL|2008-08-01 05:59:...|            57|     14|2018-09-19 07:49:...|2017-02-25 21:42:...|                Rich B|          6495084|   Anonymous User|          11|     NULL|          1|   399|        <.net><math>|Difference betwee...|    123231|\n",
      "|             NULL|        NULL|<p>No. (And more ...|       NULL|            6|                NULL|2010-09-20 20:18:...|          NULL|3753373|2010-09-20 20:18:...|                NULL|                  NULL|             NULL|             NULL|       10293|  3753364|          2|    13|                NULL|                NULL|      NULL|\n",
      "|             NULL|        NULL|<p>I am not aware...|       NULL|            2|                NULL|2010-09-20 22:36:...|          NULL|3754384|2010-09-20 22:43:...|2010-09-20 22:43:...|                  NULL|           140185|             NULL|      140185|  3754279|          2|     2|                NULL|                NULL|      NULL|\n",
      "|             NULL|        NULL|<p>If you want a ...|       NULL|            2|                NULL|2010-09-20 23:04:...|          NULL|3754601|2010-09-20 23:04:...|                NULL|                  NULL|             NULL|             NULL|        7280|  3754553|          2|     1|                NULL|                NULL|      NULL|\n",
      "|             NULL|        NULL|<p>The very first...|       NULL|            0|                NULL|2010-09-21 06:07:...|          NULL|3756831|2010-09-21 06:07:...|                NULL|                  NULL|             NULL|             NULL|      349130|  3756770|          2|     9|                NULL|                NULL|      NULL|\n",
      "|             NULL|        NULL|<p>It seems to me...|       NULL|            3|                NULL|2010-09-21 11:33:...|          NULL|3758183|2010-09-21 11:33:...|                NULL|                  NULL|             NULL|             NULL|       15168|  3754526|          2|     0|                NULL|                NULL|      NULL|\n",
      "|             NULL|        NULL|<p>In Django orig...|       NULL|            3|2010-09-21 15:46:...|2010-09-21 15:46:...|          NULL|3759958|2010-09-21 17:40:...|2010-09-21 17:40:...|                  NULL|           377095|             NULL|      377095|  3759524|          2|     1|                NULL|                NULL|      NULL|\n",
      "|             NULL|        NULL|<p>You can't. Mic...|       NULL|            0|                NULL|2010-09-21 16:07:...|          NULL|3760101|2010-09-21 16:07:...|                NULL|                  NULL|             NULL|             NULL|      155641|  3760066|          2|     1|                NULL|                NULL|      NULL|\n",
      "|             NULL|        NULL|<p>I don't know, ...|       NULL|            0|                NULL|2010-09-21 17:16:...|          NULL|3760630|2010-09-21 17:16:...|                NULL|                  NULL|             NULL|             NULL|      417143|  2739558|          2|     0|                NULL|                NULL|      NULL|\n",
      "|             NULL|        NULL|<p>You can't unle...|       NULL|            2|                NULL|2010-09-21 19:09:...|          NULL|3761678|2010-09-21 19:09:...|                NULL|                  NULL|             NULL|             NULL|       77409|  3761429|          2|     2|                NULL|                NULL|      NULL|\n",
      "|             NULL|        NULL|<p>Assume your se...|       NULL|            0|                NULL|2010-09-21 20:22:...|          NULL|3762339|2010-09-21 20:22:...|                NULL|                  NULL|             NULL|             NULL|        4280|  3761757|          2|     0|                NULL|                NULL|      NULL|\n",
      "|             NULL|        NULL|<p>You can use th...|       NULL|            0|                NULL|2010-09-21 22:27:...|          NULL|3763289|2013-06-07 09:57:...|2013-06-07 09:57:...|                  NULL|          1083859|             NULL|      413594|  3761292|          2|     3|                NULL|                NULL|      NULL|\n",
      "|             NULL|        NULL|<p>You can <a hre...|       NULL|            3|                NULL|2010-09-21 23:36:...|          NULL|3763797|2010-09-21 23:36:...|                NULL|                  NULL|             NULL|             NULL|       15639|  3754233|          2|    -1|                NULL|                NULL|      NULL|\n",
      "+-----------------+------------+--------------------+-----------+-------------+--------------------+--------------------+--------------+-------+--------------------+--------------------+----------------------+-----------------+-----------------+------------+---------+-----------+------+--------------------+--------------------+----------+\n",
      "only showing top 20 rows\n",
      "\n",
      "+-----------------+------------+--------------------+-----------+-------------+--------------------+--------------------+--------------+-------+--------------------+--------------------+----------------------+-----------------+-----------------+------------+---------+-----------+------+--------------------+--------------------+----------+\n",
      "|_AcceptedAnswerId|_AnswerCount|               _Body|_ClosedDate|_CommentCount| _CommunityOwnedDate|       _CreationDate|_FavoriteCount|    _Id|   _LastActivityDate|       _LastEditDate|_LastEditorDisplayName|_LastEditorUserId|_OwnerDisplayName|_OwnerUserId|_ParentId|_PostTypeId|_Score|               _Tags|              _Title|_ViewCount|\n",
      "+-----------------+------------+--------------------+-----------+-------------+--------------------+--------------------+--------------+-------+--------------------+--------------------+----------------------+-----------------+-----------------+------------+---------+-----------+------+--------------------+--------------------+----------+\n",
      "|             NULL|        NULL|<p>No. (And more ...|       NULL|            6|                NULL|2010-09-20 20:18:...|          NULL|3753373|2010-09-20 20:18:...|                NULL|                  NULL|             NULL|             NULL|       10293|  3753364|          2|    13|                NULL|                NULL|      NULL|\n",
      "|             NULL|        NULL|<p>I am not aware...|       NULL|            2|                NULL|2010-09-20 22:36:...|          NULL|3754384|2010-09-20 22:43:...|2010-09-20 22:43:...|                  NULL|           140185|             NULL|      140185|  3754279|          2|     2|                NULL|                NULL|      NULL|\n",
      "|             NULL|        NULL|<p>If you want a ...|       NULL|            2|                NULL|2010-09-20 23:04:...|          NULL|3754601|2010-09-20 23:04:...|                NULL|                  NULL|             NULL|             NULL|        7280|  3754553|          2|     1|                NULL|                NULL|      NULL|\n",
      "|             NULL|        NULL|<p>The very first...|       NULL|            0|                NULL|2010-09-21 06:07:...|          NULL|3756831|2010-09-21 06:07:...|                NULL|                  NULL|             NULL|             NULL|      349130|  3756770|          2|     9|                NULL|                NULL|      NULL|\n",
      "|             NULL|        NULL|<p>It seems to me...|       NULL|            3|                NULL|2010-09-21 11:33:...|          NULL|3758183|2010-09-21 11:33:...|                NULL|                  NULL|             NULL|             NULL|       15168|  3754526|          2|     0|                NULL|                NULL|      NULL|\n",
      "|             NULL|        NULL|<p>In Django orig...|       NULL|            3|2010-09-21 15:46:...|2010-09-21 15:46:...|          NULL|3759958|2010-09-21 17:40:...|2010-09-21 17:40:...|                  NULL|           377095|             NULL|      377095|  3759524|          2|     1|                NULL|                NULL|      NULL|\n",
      "|             NULL|        NULL|<p>You can't. Mic...|       NULL|            0|                NULL|2010-09-21 16:07:...|          NULL|3760101|2010-09-21 16:07:...|                NULL|                  NULL|             NULL|             NULL|      155641|  3760066|          2|     1|                NULL|                NULL|      NULL|\n",
      "|             NULL|        NULL|<p>I don't know, ...|       NULL|            0|                NULL|2010-09-21 17:16:...|          NULL|3760630|2010-09-21 17:16:...|                NULL|                  NULL|             NULL|             NULL|      417143|  2739558|          2|     0|                NULL|                NULL|      NULL|\n",
      "|             NULL|        NULL|<p>You can't unle...|       NULL|            2|                NULL|2010-09-21 19:09:...|          NULL|3761678|2010-09-21 19:09:...|                NULL|                  NULL|             NULL|             NULL|       77409|  3761429|          2|     2|                NULL|                NULL|      NULL|\n",
      "|             NULL|        NULL|<p>Assume your se...|       NULL|            0|                NULL|2010-09-21 20:22:...|          NULL|3762339|2010-09-21 20:22:...|                NULL|                  NULL|             NULL|             NULL|        4280|  3761757|          2|     0|                NULL|                NULL|      NULL|\n",
      "|             NULL|        NULL|<p>You can use th...|       NULL|            0|                NULL|2010-09-21 22:27:...|          NULL|3763289|2013-06-07 09:57:...|2013-06-07 09:57:...|                  NULL|          1083859|             NULL|      413594|  3761292|          2|     3|                NULL|                NULL|      NULL|\n",
      "|             NULL|        NULL|<p>You can <a hre...|       NULL|            3|                NULL|2010-09-21 23:36:...|          NULL|3763797|2010-09-21 23:36:...|                NULL|                  NULL|             NULL|             NULL|       15639|  3754233|          2|    -1|                NULL|                NULL|      NULL|\n",
      "|             NULL|        NULL|<p>Missing a coup...|       NULL|            3|                NULL|2010-09-22 02:26:...|          NULL|3764959|2010-09-22 02:33:...|2010-09-22 02:33:...|                  NULL|            75642|             NULL|       29411|  3764878|          2|     1|                NULL|                NULL|      NULL|\n",
      "|             NULL|        NULL|<p>Checking the s...|       NULL|            1|                NULL|2010-09-22 07:05:...|          NULL|3766041|2010-09-22 07:11:...|2010-09-22 07:11:...|                  NULL|           365526|             NULL|      365526|  3765865|          2|     3|                NULL|                NULL|      NULL|\n",
      "|             NULL|        NULL|<p>Yes.</p>\\n\\n<p...|       NULL|            0|                NULL|2010-09-22 09:11:...|          NULL|3766485|2010-09-22 09:11:...|                NULL|                  NULL|             NULL|             NULL|        2788|  3766437|          2|     0|                NULL|                NULL|      NULL|\n",
      "|             NULL|        NULL|<p>If you have th...|       NULL|            0|                NULL|2010-09-22 11:56:...|          NULL|3767314|2010-09-22 11:56:...|                NULL|                  NULL|             NULL|             NULL|       49505|  3767267|          2|     4|                NULL|                NULL|      NULL|\n",
      "|          4248640|           1|<p>The standard d...|       NULL|            0|                NULL|2010-09-22 14:33:...|             5|3768363|2017-02-26 22:11:...|2017-02-26 22:11:...|                  NULL|          1848654|             NULL|      418110|     NULL|          1|    10|<c++><character-e...|Character sets - ...|      3650|\n",
      "|             NULL|        NULL|<p>Whether or not...|       NULL|            0|                NULL|2010-09-22 16:04:...|          NULL|3768995|2010-09-22 16:04:...|                NULL|                  NULL|             NULL|             NULL|      223992|  3768333|          2|     4|                NULL|                NULL|      NULL|\n",
      "|             NULL|        NULL|<pre><code>positi...|       NULL|            0|                NULL|2010-09-22 18:21:...|          NULL|3770195|2010-09-22 18:21:...|                NULL|                  NULL|             NULL|             NULL|      446738|  3770033|          2|     0|                NULL|                NULL|      NULL|\n",
      "|             NULL|        NULL|<p>Your game engi...|       NULL|            2|                NULL|2010-09-23 04:06:...|          NULL|3774533|2010-09-23 04:06:...|                NULL|                  NULL|             NULL|             NULL|      234039|  3773971|          2|     1|                NULL|                NULL|      NULL|\n",
      "+-----------------+------------+--------------------+-----------+-------------+--------------------+--------------------+--------------+-------+--------------------+--------------------+----------------------+-----------------+-----------------+------------+---------+-----------+------+--------------------+--------------------+----------+\n",
      "only showing top 20 rows\n",
      "\n"
     ]
    }
   ],
   "source": [
    "postsData = spark.read.format('xml').option('rowTag', 'row').option(\"timestampFormat\", 'y/M/d H:m:s').load('posts_sample.xml')\n",
    "\n",
    "print(f\"Elems: {postsData.count()}\")\n",
    "postsData.printSchema()\n",
    "postsData.show()\n",
    "\n",
    "dates = (\"2010-01-01\",  \"2020-12-31\")\n",
    "posts_by_date = postsData.filter(F.col(\"_CreationDate\").between(*dates))\n",
    "posts_by_date.show()"
   ]
  },
  {
   "cell_type": "code",
   "execution_count": 11,
   "metadata": {},
   "outputs": [],
   "source": [
    "languagesData = spark.read.format(\"csv\").option(\"header\", True).option(\"inferSchema\", True).load(\"programming-languages.csv\").dropna(how=\"all\")\n"
   ]
  },
  {
   "cell_type": "code",
   "execution_count": 12,
   "id": "8bd65c15",
   "metadata": {},
   "outputs": [
    {
     "name": "stdout",
     "output_type": "stream",
     "text": [
      "\n",
      "Languages_count: 700\n",
      "\n",
      "First_lang:\n",
      "+------------+--------------------+\n",
      "|        name|       wikipedia_url|\n",
      "+------------+--------------------+\n",
      "|     A# .NET|https://en.wikipe...|\n",
      "|  A# (Axiom)|https://en.wikipe...|\n",
      "|  A-0 System|https://en.wikipe...|\n",
      "|          A+|https://en.wikipe...|\n",
      "|         A++|https://en.wikipe...|\n",
      "|        ABAP|https://en.wikipe...|\n",
      "|         ABC|https://en.wikipe...|\n",
      "|   ABC ALGOL|https://en.wikipe...|\n",
      "|       ABSET|https://en.wikipe...|\n",
      "|       ABSYS|https://en.wikipe...|\n",
      "|         ACC|https://en.wikipe...|\n",
      "|      Accent|https://en.wikipe...|\n",
      "|    Ace DASL|https://en.wikipe...|\n",
      "|        ACL2|https://en.wikipe...|\n",
      "|     ACT-III|https://en.wikipe...|\n",
      "|     Action!|https://en.wikipe...|\n",
      "|ActionScript|https://en.wikipe...|\n",
      "|         Ada|https://en.wikipe...|\n",
      "|     Adenine|https://en.wikipe...|\n",
      "|        Agda|https://en.wikipe...|\n",
      "+------------+--------------------+\n",
      "only showing top 20 rows\n",
      "\n",
      "root\n",
      " |-- name: string (nullable = true)\n",
      " |-- wikipedia_url: string (nullable = true)\n",
      "\n"
     ]
    }
   ],
   "source": [
    "print(f\"\\nLanguages_count: {languagesData.count()}\")\n",
    "print(f\"\\nFirst_lang:\")\n",
    "languagesData.show()\n",
    "languagesData.printSchema()"
   ]
  },
  {
   "cell_type": "markdown",
   "metadata": {},
   "source": [
    "Сформировать отчёт с информацией о 10 наиболее популярных языках программирования по итогам года за период с 2010 по 2020 годы. Отчёт будет отражать динамику изменения популярности языков программирования и представлять собой набор таблиц \"топ-10\" для каждого года."
   ]
  },
  {
   "cell_type": "code",
   "execution_count": 18,
   "id": "b76e8779",
   "metadata": {},
   "outputs": [
    {
     "name": "stdout",
     "output_type": "stream",
     "text": [
      "+----+--------+-----+\n",
      "|Year|Language|Count|\n",
      "+----+--------+-----+\n",
      "|2010|       E| 1510|\n",
      "|2010|       C|  296|\n",
      "|2010|       B|  210|\n",
      "|2010|       D|   65|\n",
      "|2010|       L|   14|\n",
      "|2010|     Arc|   10|\n",
      "|2010|     ACC|    9|\n",
      "|2010|       G|    9|\n",
      "|2010|       J|    8|\n",
      "|2010|     PHP|    7|\n",
      "|2011|       E| 2497|\n",
      "|2011|       C|  466|\n",
      "|2011|       B|  336|\n",
      "|2011|       D|  127|\n",
      "|2011|       L|   29|\n",
      "|2011|       G|   15|\n",
      "|2011|       J|   14|\n",
      "|2011|     PHP|   14|\n",
      "|2011|     Arc|   10|\n",
      "|2011|       F|    9|\n",
      "+----+--------+-----+\n",
      "only showing top 20 rows\n",
      "\n"
     ]
    }
   ],
   "source": [
    "def find_name(row, language_name):\n",
    "    tag = next((name for name in language_name if name.lower() in str(row._Tags).lower()), 'None')\n",
    "    return (row._CreationDate, tag)\n",
    "\n",
    "languages_names=[str(n[0]) for n in languagesData.collect()]\n",
    "\n",
    "languages_by_year = (posts_by_date.rdd.map(lambda x: find_name(x, languages_names))\n",
    "                     .filter(lambda x: x[1] != 'None')\n",
    "                     .keyBy(lambda row: (row[0].year, row[1]))\n",
    "                     .aggregateByKey(0, lambda x, y: x + 1, lambda x1, x2: x1 + x2)\n",
    "                     .sortBy(lambda x: x[1], ascending=False)\n",
    ").collect()\n",
    "\n",
    "\n",
    "list_by_years = []\n",
    "for year in range(2010,2021):\n",
    "    list_by_years.extend([(row[0][0], row[0][1], row[1]) for row in languages_by_year if row[0][0] == year][:10])\n",
    "\n",
    "\n",
    "row_template = Row('Year', 'Language', 'Count')\n",
    "df = spark.createDataFrame([row_template(*x) for x in list_by_years])\n",
    "df.write.mode(\"overwrite\").parquet(\"top_10_languages_by_years.parquet\")\n",
    "df.show()    "
   ]
  },
  {
   "cell_type": "code",
   "execution_count": null,
   "id": "797b32f0",
   "metadata": {},
   "outputs": [],
   "source": []
  }
 ],
 "metadata": {
  "kernelspec": {
   "display_name": ".venv",
   "language": "python",
   "name": "python3"
  },
  "language_info": {
   "codemirror_mode": {
    "name": "ipython",
    "version": 3
   },
   "file_extension": ".py",
   "mimetype": "text/x-python",
   "name": "python",
   "nbconvert_exporter": "python",
   "pygments_lexer": "ipython3",
   "version": "3.10.11"
  }
 },
 "nbformat": 4,
 "nbformat_minor": 5
}
